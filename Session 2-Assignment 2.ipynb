{
 "cells": [
  {
   "cell_type": "code",
   "execution_count": 36,
   "metadata": {},
   "outputs": [
    {
     "name": "stdout",
     "output_type": "stream",
     "text": [
      "Sum on list [1,2,3] using custom reduce function 6\n"
     ]
    }
   ],
   "source": [
    "#Session 2-Assignment 1 - task 1- problem 1.1\n",
    "def myreducefun(anyfunc, sequence):\n",
    "    #print(len(sequence[1:]))\n",
    "    result= sequence[0]\n",
    "    \n",
    "    for item in sequence:\n",
    "     result = anyfunc(result,item)\n",
    "        \n",
    "    return result\n",
    "\n",
    "def sum(x,y): return x + y\n",
    "\n",
    "print (\"Sum on list [1,2,3] using custom reduce function \"   + str(myreduce(sum, [1,2,3])) )\n"
   ]
  },
  {
   "cell_type": "code",
   "execution_count": 24,
   "metadata": {},
   "outputs": [
    {
     "name": "stdout",
     "output_type": "stream",
     "text": [
      "Filter the positive intergeres[3, 4, 5]\n"
     ]
    }
   ],
   "source": [
    "#Session 2-Assignment 1 - task 1- problem 1.2\n",
    "def myfilterfun(anyfun1 , sequence):\n",
    "    list1=[]\n",
    "    \n",
    "    for item in sequence:\n",
    "     if anyfun1(item):\n",
    "      list1.append(item)\n",
    "  \n",
    "    return list1\n",
    "\n",
    "def ispositive(x):\n",
    " if (x <= 0): \n",
    "  return False \n",
    " else: \n",
    "  return True\n",
    "\n",
    "print(\"Filter the positive intergeres\" +str(myfilterfun(ispositive,[-1,-2,3,4,5])))\n",
    "    "
   ]
  },
  {
   "cell_type": "code",
   "execution_count": 26,
   "metadata": {},
   "outputs": [
    {
     "name": "stdout",
     "output_type": "stream",
     "text": [
      "['A', 'C', 'A', 'D', 'G', 'I', 'L', 'D']\n",
      "------------------------------------------------------------\n",
      "['x', 'xx', 'xxx', 'xxxx', 'y', 'yy', 'yyy', 'yyyy', 'z', 'zz', 'zzz', 'zzzz']\n",
      "------------------------------------------------------------\n",
      "['x', 'xx', 'xxx', 'xxxx', 'y', 'yy', 'yyy', 'yyyy', 'z', 'zz', 'zzz', 'zzzz']\n",
      "------------------------------------------------------------\n",
      "['x', 'y', 'z', 'xx', 'yy', 'zz', 'xxx', 'yyy', 'zzz', 'xxxx', 'yyyy', 'zzzz']\n",
      "------------------------------------------------------------\n",
      "[[2], [3], [4], [3], [4], [5], [4], [5], [6]]\n",
      "------------------------------------------------------------\n",
      "[[2, 3, 4, 5], [3, 4, 5, 6], [4, 5, 6, 7], [5, 6, 7, 8]]\n",
      "------------------------------------------------------------\n",
      "[(1, 1), (2, 1), (3, 1), (1, 2), (2, 2), (3, 2), (1, 3), (2, 3), (3, 3)]\n"
     ]
    }
   ],
   "source": [
    "#Session 2-Assignment 1 - task 1- problem 2\n",
    "name1= \"ACADGILD\"\n",
    "\n",
    "slist = [i for i in name1]\n",
    "print(slist)\n",
    "print (\"-\"*60)\n",
    "l = []\n",
    "for m in \"xyz\":\n",
    "    for n in range(1,5):\n",
    "        l.append(m*n)\n",
    "        \n",
    "print(l)\n",
    "print (\"-\"*60)\n",
    "listxyz = [k*l for k in \"xyz\" for l in range(1,5)]\n",
    "\n",
    "print(listxyz)\n",
    "print (\"-\"*60)\n",
    "\n",
    "listxyz1 = [n*m for n in range (1,5) for m in \"xyz\"]\n",
    "\n",
    "print(listxyz1)\n",
    "print (\"-\"*60)\n",
    "\n",
    "ip_list = [2,3,4]\n",
    "listnum = [[i+item] for item in ip_list for i in range(0,3)]\n",
    "print(listnum)\n",
    "\n",
    "print (\"-\"*60)\n",
    "\n",
    "ip_list_1 = [2,3,4,5]\n",
    "listnum1 = [[i+item for item in ip_list_1] for i in range(0,4)]\n",
    "print(listnum1)\n",
    "\n",
    "print (\"-\"*60)\n",
    "ip_tup = [1,2,3]\n",
    "list_tup = [(num,item) for item in ip_tup for num in ip_tup ]\n",
    "print(list_tup)\n"
   ]
  },
  {
   "cell_type": "code",
   "execution_count": 27,
   "metadata": {},
   "outputs": [
    {
     "name": "stdout",
     "output_type": "stream",
     "text": [
      "[(2, 'hi'), (3, 'bye'), (5, 'hello')]\n"
     ]
    },
    {
     "data": {
      "text/plain": [
       "'hello'"
      ]
     },
     "execution_count": 27,
     "metadata": {},
     "output_type": "execute_result"
    }
   ],
   "source": [
    "#Session 2-Assignment 1 - task 1- problem 3\n",
    "\n",
    "listw= [\"hello\" , \"hi\" , \"bye\"]\n",
    "listemp =[]\n",
    "def longestword(list_words):\n",
    "    for i in list_words:\n",
    "        listemp.append((len(i),i))\n",
    "    listemp.sort()\n",
    "\n",
    "    print(listemp)\n",
    "    return listemp[-1][1]\n",
    "    \n",
    "longestword(listw)\n",
    "\n",
    "\n"
   ]
  },
  {
   "cell_type": "code",
   "execution_count": 31,
   "metadata": {},
   "outputs": [],
   "source": [
    "#Session 2-Assignment 1 - task 2- problem 1.1\n",
    "\n",
    "class area:\n",
    "    def __init__(self, no_of_sides):\n",
    "        self.n = no_of_sides\n",
    "        self.sides = [0 for i in range(no_of_sides)]\n",
    "\n",
    "    def inputSides(self):\n",
    "        self.sides = [float(input(\"Enter side \"+str(i+1)+\" : \")) for i in range(self.n)]\n",
    "\n",
    "   \n",
    "            \n",
    "class Triangle(area):\n",
    "    def __init__(self):\n",
    "        area.__init__(self,3)\n",
    "\n",
    "    def findArea(self):\n",
    "        a, b, c = self.sides\n",
    "        # calculate the semi-perimeter\n",
    "        s = (a + b + c) / 2\n",
    "        print(s)\n",
    "        area = (s*(s-a)*(s-b)*(s-c)) ** 0.5\n",
    "        print('The area of the triangle is %0.2f' %area)\n",
    "        \n"
   ]
  },
  {
   "cell_type": "code",
   "execution_count": 32,
   "metadata": {},
   "outputs": [
    {
     "name": "stdout",
     "output_type": "stream",
     "text": [
      "Enter side 1 : 4\n",
      "Enter side 2 : 5\n",
      "Enter side 3 : 6\n",
      "7.5\n",
      "The area of the triangle is 9.92\n"
     ]
    }
   ],
   "source": [
    "t = Triangle()\n",
    "\n",
    "t.inputSides()\n",
    "\n",
    "t.findArea()\n"
   ]
  },
  {
   "cell_type": "markdown",
   "metadata": {},
   "source": [
    "\n",
    "\n"
   ]
  },
  {
   "cell_type": "code",
   "execution_count": 33,
   "metadata": {},
   "outputs": [
    {
     "name": "stdout",
     "output_type": "stream",
     "text": [
      "['Village', 'beautiful']\n"
     ]
    }
   ],
   "source": [
    "#Session 2-Assignment 1 - task 2- problem 1.2\n",
    "\n",
    "def filter_long_words(str,n):\n",
    "    listOfWord = []\n",
    "    x = str.split(\" \")\n",
    "    for i in x:\n",
    "        if len(i)>n:\n",
    "            listOfWord.append(i)\n",
    "        \n",
    "    return listOfWord\n",
    "    \n",
    "    \n",
    "print(filter_long_words(\"The Village is beautiful\" ,4))\n",
    "    \n",
    "    "
   ]
  },
  {
   "cell_type": "code",
   "execution_count": 34,
   "metadata": {},
   "outputs": [
    {
     "name": "stdout",
     "output_type": "stream",
     "text": [
      "[2, 5, 3]\n"
     ]
    }
   ],
   "source": [
    "#Session 2-Assignment 1 - task 2- problem 2.1\n",
    "#Write a Python program using function concept that maps list of words into a list of integers\n",
    "#representing the lengths of the corresponding words .\n",
    "\n",
    "def numOfStr(str1):\n",
    "    lenOfWord = []\n",
    "    for i in str1:\n",
    "        lenOfWord.append(len(i))\n",
    "        \n",
    "    return lenOfWord\n",
    "\n",
    "\n",
    "print(numOfStr([\"Hi\", \"Hello\" , \"bye\"]))\n",
    "        \n",
    "    "
   ]
  },
  {
   "cell_type": "code",
   "execution_count": 35,
   "metadata": {},
   "outputs": [
    {
     "data": {
      "text/plain": [
       "True"
      ]
     },
     "execution_count": 35,
     "metadata": {},
     "output_type": "execute_result"
    }
   ],
   "source": [
    "#Session 2-Assignment 1 - task 2- problem 2.2\n",
    "#Write a Python function which takes a character (i.e. a string of length 1) and returns True if it is\n",
    "#a vowel, False otherwise.\n",
    "\n",
    "def isVovel(char2):\n",
    "    \n",
    "    listvol = [\"a\",\"e\",\"i\",\"o\",\"u\"]\n",
    "    for i in listvol:\n",
    "        if char2==i:\n",
    "            return True\n",
    "        \n",
    "    else:\n",
    "        return False\n",
    "            \n",
    "isVovel(\"i\")\n",
    "        \n",
    "    "
   ]
  },
  {
   "cell_type": "code",
   "execution_count": null,
   "metadata": {},
   "outputs": [],
   "source": []
  },
  {
   "cell_type": "code",
   "execution_count": null,
   "metadata": {},
   "outputs": [],
   "source": []
  },
  {
   "cell_type": "code",
   "execution_count": null,
   "metadata": {},
   "outputs": [],
   "source": []
  },
  {
   "cell_type": "code",
   "execution_count": null,
   "metadata": {},
   "outputs": [],
   "source": []
  },
  {
   "cell_type": "code",
   "execution_count": null,
   "metadata": {},
   "outputs": [],
   "source": []
  },
  {
   "cell_type": "code",
   "execution_count": null,
   "metadata": {},
   "outputs": [],
   "source": []
  }
 ],
 "metadata": {
  "kernelspec": {
   "display_name": "Python 3",
   "language": "python",
   "name": "python3"
  },
  "language_info": {
   "codemirror_mode": {
    "name": "ipython",
    "version": 3
   },
   "file_extension": ".py",
   "mimetype": "text/x-python",
   "name": "python",
   "nbconvert_exporter": "python",
   "pygments_lexer": "ipython3",
   "version": "3.7.3"
  }
 },
 "nbformat": 4,
 "nbformat_minor": 2
}
