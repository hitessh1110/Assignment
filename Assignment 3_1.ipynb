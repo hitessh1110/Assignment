{
 "cells": [
  {
   "cell_type": "code",
   "execution_count": 27,
   "metadata": {},
   "outputs": [
    {
     "name": "stdout",
     "output_type": "stream",
     "text": [
      "Getting division by zero Error\n",
      "division by zero\n"
     ]
    }
   ],
   "source": [
    "# Assignment 3 : \n",
    "#Task 1\n",
    "# 1. Write a function to compute 5/0 and use try/except to catch the exceptions\n",
    "\n",
    "def Compute():\n",
    "    try:\n",
    "        x=5/0\n",
    "    except ArithmeticError as e:\n",
    "        print(\"Getting division by zero Error\")\n",
    "        print(e)\n",
    "\n",
    "Compute()"
   ]
  },
  {
   "cell_type": "code",
   "execution_count": 28,
   "metadata": {},
   "outputs": [
    {
     "name": "stdout",
     "output_type": "stream",
     "text": [
      "Americans play Baseball\n",
      "Americans play Cricket\n",
      "Americans watch Baseball\n",
      "Americans watch Cricket\n",
      "Indians play Baseball\n",
      "Indians play Cricket\n",
      "Indians watch Baseball\n",
      "Indians watch Cricket\n"
     ]
    }
   ],
   "source": [
    "#Task 1\n",
    "#2. Implement a Python program to generate all sentences where subject is in [\"Americans\",\n",
    "#\"Indians\"] and verb is in [\"Play\", \"watch\"] and the object is in [\"Baseball\",\"cricket\"].\n",
    "\n",
    "def BuiltSentences():\n",
    "    \n",
    "    subjects=[\"Americans\",\"Indians\"]\n",
    "    verbs=[\"play\",\"watch\"]\n",
    "    objects=[\"Baseball\",\"Cricket\"]\n",
    "    \n",
    "    for i in subjects:\n",
    "        for j in verbs:\n",
    "            for k in objects: \n",
    "                print(i+\" \"+j+\" \"+k)\n",
    "\n",
    "BuiltSentences()\n",
    "    "
   ]
  },
  {
   "cell_type": "code",
   "execution_count": 12,
   "metadata": {},
   "outputs": [
    {
     "data": {
      "text/plain": [
       "array([[ 1,  1,  1],\n",
       "       [ 4,  2,  1],\n",
       "       [ 9,  3,  1],\n",
       "       [25,  5,  1]])"
      ]
     },
     "execution_count": 12,
     "metadata": {},
     "output_type": "execute_result"
    }
   ],
   "source": [
    "import numpy as np\n",
    "x= np.array([1,2,3,5])\n",
    "n=3\n",
    "y =np.vander(x,n)\n",
    "y\n",
    "#z= np.vander(x, increasing=True)\n",
    "#z"
   ]
  },
  {
   "cell_type": "code",
   "execution_count": 26,
   "metadata": {},
   "outputs": [
    {
     "name": "stdout",
     "output_type": "stream",
     "text": [
      "<-------------output------------------>\n",
      "\n",
      "The input array is: [1 2 3 5] \n",
      "\n",
      "Number of columns in output matrix should be: 4 \n",
      "\n",
      "Vander matrix of the input array in decreasing order of powers:\n",
      "\n",
      " [[  1   1   1   1]\n",
      " [  8   4   2   1]\n",
      " [ 27   9   3   1]\n",
      " [125  25   5   1]] \n",
      "\n",
      "Vander matrix of the input array in increasing order of powers:\n",
      "\n",
      " [[  1   1   1   1]\n",
      " [  1   2   4   8]\n",
      " [  1   3   9  27]\n",
      " [  1   5  25 125]] \n",
      "\n"
     ]
    }
   ],
   "source": [
    "#Task 2\n",
    "# Write a function so that the columns of the output matrix are powers of the input vector.\n",
    "import numpy as np\n",
    "\n",
    "def gen_vander_matrix(ipvector, n, increasing=False):\n",
    "    \n",
    "    if not increasing:\n",
    "        op_matrix = np.array([x**(n-1-i) for x in ipvector for i in range(n)]).reshape(ipvector.size,n)\n",
    "    elif increasing:\n",
    "        op_matrix = np.array([x**i for x in ipvector for i in range(n)]).reshape(ipvector.size,n)\n",
    "    \n",
    "    return op_matrix\n",
    "\n",
    "print(\"<-------------output------------------>\"\"\\n\")\n",
    "\n",
    "inputvector = np.array([1,2,3,5])\n",
    "no_col_outputmatrix = 4\n",
    "op_matx_dec_order = gen_vander_matrix(inputvector,no_col_outputmatrix,False)\n",
    "op_matx_inc_order = gen_vander_matrix(inputvector,no_col_outputmatrix,True)\n",
    "\n",
    "\n",
    "print(\"The input array is:\",inputvector,\"\\n\")\n",
    "print(\"Number of columns in output matrix should be:\",no_col_outputmatrix,\"\\n\")\n",
    "print(\"Vander matrix of the input array in decreasing order of powers:\\n\\n\",op_matx_dec_order,\"\\n\")\n",
    "print(\"Vander matrix of the input array in increasing order of powers:\\n\\n\",op_matx_inc_order,\"\\n\")\n",
    "\n"
   ]
  },
  {
   "cell_type": "code",
   "execution_count": null,
   "metadata": {},
   "outputs": [],
   "source": []
  }
 ],
 "metadata": {
  "kernelspec": {
   "display_name": "Python 3",
   "language": "python",
   "name": "python3"
  },
  "language_info": {
   "codemirror_mode": {
    "name": "ipython",
    "version": 3
   },
   "file_extension": ".py",
   "mimetype": "text/x-python",
   "name": "python",
   "nbconvert_exporter": "python",
   "pygments_lexer": "ipython3",
   "version": "3.7.3"
  }
 },
 "nbformat": 4,
 "nbformat_minor": 2
}
